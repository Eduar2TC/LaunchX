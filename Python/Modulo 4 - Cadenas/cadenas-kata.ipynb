{
 "cells": [
  {
   "cell_type": "code",
   "execution_count": 9,
   "metadata": {},
   "outputs": [
    {
     "name": "stdout",
     "output_type": "stream",
     "text": [
      "average\n",
      "average\n",
      "Gravity Facts about Moon\n",
      "-------------------------------------------------------------------------------\n",
      "Planet name:Earth\n",
      "Gravity on Moon: 1.62 m/s2\n",
      "Gravity Facts About- Moon\n",
      " --------------------------------------------------------------------------------\n",
      "Planet name:Earth\n",
      "Gravity on Moon: 1.62 m/s2\n",
      "\n",
      "Gravity Facts About- Moon\n",
      " --------------------------------------------------------------------------------\n",
      "Planet name:Earth\n",
      "Gravity on Moon: 1.62 m/s2\n",
      "\n",
      "\n",
      "Datos de Gravedad sobre: Ganymede\n",
      "-------------------------------------------------------------------------------\n",
      "Nombre del planeta: Marts\n",
      "Gravedad en Ganymede: 0.00143 m/s2\n",
      "\n"
     ]
    }
   ],
   "source": [
    "#jercicio  1\n",
    "#Texto\n",
    "text = \"\"\"Interesting facts about the Moon. The Moon is Earth's only satellite. There are several interesting facts about the Moon and how it affects life here on Earth. \n",
    "On average, the Moon moves 4cm away from the Earth every year. This yearly drift is not significant enough to cause immediate effects on Earth. The highes.\"\"\"\n",
    "#Separando a oraciones\n",
    "textSplited = text.split('.')\n",
    "keys = ['temperature', 'distance', 'average']\n",
    "#Iteracion en el arreglo de oraciones\n",
    "for items in textSplited:\n",
    "    #Iteracion entre las palabras clave\n",
    "    for key in keys:\n",
    "        #Si la palabra clave esta en el item actual\n",
    "        if key in items:\n",
    "            print(key)\n",
    "            \n",
    "#Convercion de Celcius a C\n",
    "for items in textSplited:\n",
    "    for key in keys:\n",
    "        if key in items:\n",
    "            print(key.replace('Celsius', 'C'))\n",
    "\n",
    "\n",
    "#Ejercicio 2\n",
    "# Datos con los que vas a trabajar\n",
    "name = \"Moon\"\n",
    "gravity = 0.00162 # in kms\n",
    "planet = \"Earth\"\n",
    "tittle = f'Gravity Facts about {name}\\n-------------------------------------------------------------------------------\\nPlanet name:{planet}\\nGravity on {name}: {round(gravity*1000,2)} m/s2'\n",
    "print(tittle)\n",
    "\n",
    "#Solución\n",
    "#Datos\n",
    "name = \"Moon\"\n",
    "gravity = 0.00162  # in kms\n",
    "planet = \"Earth\"\n",
    "#Creacion del titulo\n",
    "title = f'Gravity Facts about- {name}\\n'\n",
    "#Plantilla\n",
    "facts = f\"\"\" {'-'*80}\n",
    "Planet name:{planet}\n",
    "Gravity on {name}: {round(gravity*1000,2)} m/s2\n",
    "\"\"\"\n",
    "#Unio de los hechos\n",
    "templete = f\"\"\"{title.title()}{facts}\"\"\"\n",
    "print(templete)\n",
    "\n",
    "#Nueva muestra\n",
    "planet = 'Marts'\n",
    "gravity = 0.00143\n",
    "name = 'Ganymede'\n",
    "#Prueba de la plantilla\n",
    "print(templete) ##No funciona\n",
    "\n",
    "#New format\n",
    "new_template = \"\"\"\n",
    "Datos de Gravedad sobre: {name}\n",
    "-------------------------------------------------------------------------------\n",
    "Nombre del planeta: {planet}\n",
    "Gravedad en {name}: {gravity} m/s2\n",
    "\"\"\"\n",
    "print(new_template.format(name=name, planet=planet, gravity=gravity))\n",
    "\n"
   ]
  }
 ],
 "metadata": {
  "interpreter": {
   "hash": "7011eaa41a249243cfe95c6ed3a6e76b1b926a88a5a076082d4aa133330007c6"
  },
  "kernelspec": {
   "display_name": "Python 3.8.2 32-bit",
   "language": "python",
   "name": "python3"
  },
  "language_info": {
   "codemirror_mode": {
    "name": "ipython",
    "version": 3
   },
   "file_extension": ".py",
   "mimetype": "text/x-python",
   "name": "python",
   "nbconvert_exporter": "python",
   "pygments_lexer": "ipython3",
   "version": "3.8.2"
  },
  "orig_nbformat": 4
 },
 "nbformat": 4,
 "nbformat_minor": 2
}
