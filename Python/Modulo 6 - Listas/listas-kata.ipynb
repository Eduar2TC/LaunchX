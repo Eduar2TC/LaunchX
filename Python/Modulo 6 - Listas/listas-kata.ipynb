{
 "cells": [
  {
   "cell_type": "markdown",
   "metadata": {},
   "source": [
    "### Ejercicio 1"
   ]
  },
  {
   "cell_type": "code",
   "execution_count": 4,
   "metadata": {},
   "outputs": [
    {
     "name": "stdout",
     "output_type": "stream",
     "text": [
      "Nro de planetas 8\n",
      "mercurio\n",
      "venus\n",
      "tierra\n",
      "marte\n",
      "jupiter\n",
      "saturno\n",
      "urano\n",
      "neptuno\n",
      "____________________\n",
      "mercurio\n",
      "venus\n",
      "tierra\n",
      "marte\n",
      "jupiter\n",
      "saturno\n",
      "urano\n",
      "neptuno\n",
      "pluton\n"
     ]
    }
   ],
   "source": [
    "planets = ['mercurio', 'venus','tierra', 'marte', 'jupiter', 'saturno', 'urano', 'neptuno']\n",
    "print( 'Nro de planetas', len(planets))\n",
    "\n",
    "for planet in planets:\n",
    "    print(planet)\n",
    "\n",
    "print('_'*20)\n",
    "\n",
    "planets.append('pluton')\n",
    "for planet in planets:\n",
    "    print(planet)"
   ]
  },
  {
   "cell_type": "markdown",
   "metadata": {},
   "source": [
    "### Eercicio 2"
   ]
  },
  {
   "cell_type": "code",
   "execution_count": 23,
   "metadata": {},
   "outputs": [
    {
     "name": "stdout",
     "output_type": "stream",
     "text": [
      "planetas mas cercanos  ['Mercurio', 'Venus']\n",
      "planetas mas alejados  ['Marte', 'Jupiter', 'Saturno', 'Urano', 'Neptuno']\n",
      "planeta mas cercano es Mercurio\n",
      "planeta mas alejado es Urano\n"
     ]
    }
   ],
   "source": [
    "planets = ['Mercurio', 'Venus','Tierra', 'Marte', 'Jupiter', 'Saturno', 'Urano', 'Neptuno']\n",
    "\n",
    "seleccion = input('Ingresar planeta (Inicio con May)')\n",
    "\n",
    "index = planets.index(seleccion)\n",
    "\n",
    "print('planetas mas cercanos ', planets[0:index])\n",
    "print('planetas mas alejados ', planets[index+1:])\n",
    "\n",
    "print('planeta mas cercano es', min(planets[0:index]) )\n",
    "print('planeta mas alejado es', max(planets[index: ]))\n"
   ]
  }
 ],
 "metadata": {
  "interpreter": {
   "hash": "7011eaa41a249243cfe95c6ed3a6e76b1b926a88a5a076082d4aa133330007c6"
  },
  "kernelspec": {
   "display_name": "Python 3.8.2 32-bit",
   "language": "python",
   "name": "python3"
  },
  "language_info": {
   "codemirror_mode": {
    "name": "ipython",
    "version": 3
   },
   "file_extension": ".py",
   "mimetype": "text/x-python",
   "name": "python",
   "nbconvert_exporter": "python",
   "pygments_lexer": "ipython3",
   "version": "3.8.2"
  },
  "orig_nbformat": 4
 },
 "nbformat": 4,
 "nbformat_minor": 2
}
