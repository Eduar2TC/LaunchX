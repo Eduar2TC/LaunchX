{
 "cells": [
  {
   "cell_type": "code",
   "execution_count": 9,
   "metadata": {},
   "outputs": [
    {
     "name": "stdout",
     "output_type": "stream",
     "text": [
      "venus\n",
      "Marte esta en el indice 3 marte\n",
      "mercurio\n",
      "venus\n",
      "tierra\n",
      "marte\n",
      "jupiter\n",
      "saturno\n",
      "urano\n",
      "neptuno\n"
     ]
    }
   ],
   "source": [
    "#Ejemplo\n",
    "lista = ['mercurio', 'venus','tierra', 'marte', 'jupiter', 'saturno', 'urano', 'neptuno']\n",
    "\n",
    "#Acceso por indices\n",
    "print (lista[1])\n",
    "print( 'Marte esta en el indice 3', lista[3] )\n",
    "#Acceso por loop for\n",
    "for i in lista:\n",
    "    print(i)\n"
   ]
  },
  {
   "cell_type": "code",
   "execution_count": 6,
   "metadata": {},
   "outputs": [
    {
     "name": "stdout",
     "output_type": "stream",
     "text": [
      "Marte tambien se conoce como:  planeta rojo\n"
     ]
    }
   ],
   "source": [
    "#Modificando los valores de la lista\n",
    "lista[3] = 'planeta rojo'\n",
    "print('Marte tambien se conoce como: ', lista[3])"
   ]
  },
  {
   "cell_type": "code",
   "execution_count": 7,
   "metadata": {},
   "outputs": [
    {
     "name": "stdout",
     "output_type": "stream",
     "text": [
      "Númeto de planetas 8\n"
     ]
    }
   ],
   "source": [
    "#Longitud de una lista\n",
    "totalDePlanetas = len( lista )\n",
    "print('Númeto de planetas', totalDePlanetas)"
   ]
  },
  {
   "cell_type": "code",
   "execution_count": 10,
   "metadata": {},
   "outputs": [
    {
     "name": "stdout",
     "output_type": "stream",
     "text": [
      "planeta 0 mercurio\n",
      "planeta 1 venus\n",
      "planeta 2 tierra\n",
      "planeta 3 marte\n",
      "planeta 4 jupiter\n",
      "planeta 5 saturno\n",
      "planeta 6 urano\n",
      "planeta 7 neptuno\n",
      "planeta 8 pluton\n"
     ]
    }
   ],
   "source": [
    "#Append \n",
    "lista.append('pluton')\n",
    "for index, item in enumerate( lista ):\n",
    "    print('planeta ' + str(index), item )\n"
   ]
  },
  {
   "cell_type": "code",
   "execution_count": 11,
   "metadata": {},
   "outputs": [
    {
     "name": "stdout",
     "output_type": "stream",
     "text": [
      "tamanio lista 9\n",
      "tamanio lista 8\n"
     ]
    }
   ],
   "source": [
    "#pop\n",
    "print( 'tamanio lista', len(lista) )\n",
    "lista.pop()\n",
    "print( 'tamanio lista', len(lista) )"
   ]
  },
  {
   "cell_type": "code",
   "execution_count": 12,
   "metadata": {},
   "outputs": [
    {
     "name": "stdout",
     "output_type": "stream",
     "text": [
      "neptuno\n",
      "urano\n"
     ]
    }
   ],
   "source": [
    "#Indice negativos\n",
    "print( lista[-1] ) #ultimo elemento\n",
    "print( lista[-2] ) #penultimo elemento "
   ]
  },
  {
   "cell_type": "code",
   "execution_count": 13,
   "metadata": {},
   "outputs": [
    {
     "name": "stdout",
     "output_type": "stream",
     "text": [
      "Jupiter indice  4\n"
     ]
    }
   ],
   "source": [
    "#Buscar indice\n",
    "indice = lista.index('jupiter')\n",
    "print('Jupiter indice ', indice)"
   ]
  },
  {
   "cell_type": "code",
   "execution_count": 22,
   "metadata": {},
   "outputs": [
    {
     "name": "stdout",
     "output_type": "stream",
     "text": [
      "Peso del autobús en mercurio 4781.7 kg\n",
      "Peso del autobús en venus 11473.55 kg\n",
      "Peso del autobús en tierra 12650 kg\n",
      "Peso del autobús en marte 4794.35 kg\n",
      "Peso del autobús en jupiter 29854.0 kg\n",
      "Peso del autobús en saturno 11587.4 kg\n",
      "Peso del autobús en urano 11245.85 kg\n",
      "Peso del autobús en neptuno 14168.0 kg\n"
     ]
    }
   ],
   "source": [
    "#Listas con numeros flotantes\n",
    "gravedadEnPlaneta = [0.378, 0.907, 1, 0.379, 2.36, 0.916, 0.889, 1.12]\n",
    "pesoDelAutobus = 12650\n",
    "\n",
    "for index, item in enumerate(lista):\n",
    "    print('Peso del autobús en ' + item, str( round( pesoDelAutobus * gravedadEnPlaneta[index], 2) ) +' kg' )\n"
   ]
  },
  {
   "cell_type": "code",
   "execution_count": 30,
   "metadata": {},
   "outputs": [
    {
     "name": "stdout",
     "output_type": "stream",
     "text": [
      "Peso maximo del autobus en planetas: 29854.0\n",
      "Peso minimo del autobus en planetas: 4781.7\n"
     ]
    }
   ],
   "source": [
    "#max, min\n",
    "print('Peso maximo del autobus en planetas: '+ str( pesoDelAutobus * max( gravedadEnPlaneta )) )\n",
    "print('Peso minimo del autobus en planetas: '+ str( pesoDelAutobus * min( gravedadEnPlaneta )) )"
   ]
  },
  {
   "cell_type": "code",
   "execution_count": 35,
   "metadata": {},
   "outputs": [
    {
     "name": "stdout",
     "output_type": "stream",
     "text": [
      "mercurio\n",
      "venus\n",
      "------------------\n",
      "marte\n",
      "jupiter\n",
      "saturno\n",
      "urano\n",
      "neptuno\n"
     ]
    }
   ],
   "source": [
    "#Slicing\n",
    "planetas = lista\n",
    "\n",
    "planetasAntesDeLaTierra = planetas[0:2]\n",
    "planetasDespuesDeLaTierra = planetas[ 3: ]\n",
    "for i in planetasAntesDeLaTierra:\n",
    "    print(i)\n",
    "print('-'*18)\n",
    "for i in planetasDespuesDeLaTierra:\n",
    "    print(i)"
   ]
  },
  {
   "cell_type": "code",
   "execution_count": 38,
   "metadata": {},
   "outputs": [
    {
     "name": "stdout",
     "output_type": "stream",
     "text": [
      "The regular satellite moons of Jupiter are ['Metis', 'Adrastea', 'Amalthea', 'Thebe', 'Io', 'Europa', 'Ganymede', 'Callisto']\n",
      "The regular satellite moons of Jupiter are ['Adrastea', 'Amalthea', 'Callisto', 'Europa', 'Ganymede', 'Io', 'Metis', 'Thebe']\n",
      "The regular satellite moons of Jupiter are ['Thebe', 'Metis', 'Io', 'Ganymede', 'Europa', 'Callisto', 'Amalthea', 'Adrastea']\n"
     ]
    }
   ],
   "source": [
    "#Union de listas\n",
    "\n",
    "amalthea_group = ['Metis', 'Adrastea', 'Amalthea', 'Thebe']\n",
    "galilean_moons = ['Io', 'Europa', 'Ganymede', 'Callisto']\n",
    "\n",
    "regular_satellite_moons = amalthea_group + galilean_moons\n",
    "print('The regular satellite moons of Jupiter are', regular_satellite_moons)\n",
    "\n",
    "#Ordenamiento de listas\n",
    "regular_satellite_moons.sort()\n",
    "print(\"The regular satellite moons of Jupiter are\", regular_satellite_moons)\n",
    "\n",
    "#Ordenamiento inverso\n",
    "regular_satellite_moons.sort(reverse=True)\n",
    "print(\"The regular satellite moons of Jupiter are\", regular_satellite_moons)\n"
   ]
  }
 ],
 "metadata": {
  "interpreter": {
   "hash": "7011eaa41a249243cfe95c6ed3a6e76b1b926a88a5a076082d4aa133330007c6"
  },
  "kernelspec": {
   "display_name": "Python 3.8.2 32-bit",
   "language": "python",
   "name": "python3"
  },
  "language_info": {
   "codemirror_mode": {
    "name": "ipython",
    "version": 3
   },
   "file_extension": ".py",
   "mimetype": "text/x-python",
   "name": "python",
   "nbconvert_exporter": "python",
   "pygments_lexer": "ipython3",
   "version": "3.8.2"
  },
  "orig_nbformat": 4
 },
 "nbformat": 4,
 "nbformat_minor": 2
}
