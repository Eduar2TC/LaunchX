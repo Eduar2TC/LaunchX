{
 "cells": [
  {
   "cell_type": "markdown",
   "metadata": {},
   "source": [
    "## Lógica booleana"
   ]
  },
  {
   "cell_type": "markdown",
   "metadata": {},
   "source": [
    "### If"
   ]
  },
  {
   "cell_type": "code",
   "execution_count": null,
   "metadata": {},
   "outputs": [],
   "source": [
    "#if expresion_prueba:\n",
    "    # intrucción(es) a ejecutar\n",
    "    \n",
    "    #if expresion_prueba:\n",
    "    #   intrucción(es) a ejecutar\n",
    "a = 97\n",
    "b = 55\n",
    "# test expression / expresión de prueba\n",
    "if a < b:\n",
    "    # statement to be run / instrucción a ejecutar\n",
    "    print(b)\n"
   ]
  },
  {
   "cell_type": "markdown",
   "metadata": {},
   "source": [
    "### Else"
   ]
  },
  {
   "cell_type": "code",
   "execution_count": 1,
   "metadata": {},
   "outputs": [
    {
     "name": "stdout",
     "output_type": "stream",
     "text": [
      "93\n"
     ]
    }
   ],
   "source": [
    "#if expresion_prueba:\n",
    "    #instrucción(es) a ejecutar\n",
    "#else:\n",
    "    #instrucción(es) a ejecutar\n",
    "a = 93\n",
    "b = 27\n",
    "if a >= b:\n",
    "    print(a)\n",
    "else:\n",
    "    print(b)\n"
   ]
  },
  {
   "cell_type": "markdown",
   "metadata": {},
   "source": [
    "### elif"
   ]
  },
  {
   "cell_type": "code",
   "execution_count": null,
   "metadata": {},
   "outputs": [],
   "source": [
    "#if expresion_prueba:\n",
    "    # instrucción(es) a ejecutar\n",
    "#elif expresion_prueba:\n",
    "    # instrucción(es) a ejecutar\n",
    "a = 93\n",
    "b = 27\n",
    "if a >= b:\n",
    "    print(\"a es mayor o igual que b\")\n",
    "elif a == b:\n",
    "    print(\"a es igual que b\")\n"
   ]
  },
  {
   "cell_type": "markdown",
   "metadata": {},
   "source": [
    "### Conbinacion if, elif y else"
   ]
  },
  {
   "cell_type": "markdown",
   "metadata": {},
   "source": []
  },
  {
   "cell_type": "code",
   "execution_count": null,
   "metadata": {},
   "outputs": [],
   "source": [
    "#if expresion_prueba:\n",
    "    # instrucción(es) a ejecutar\n",
    "#elif expresion_prueba:\n",
    "    # instrucción(es) a ejecutar\n",
    "#elif expresion_prueba:\n",
    "    # instrucción(es) a ejecutar\n",
    "#else:\n",
    "    # instrucción(es) a ejecutar\n",
    "a = 93\n",
    "b = 27\n",
    "if a > b:\n",
    "    print(\"a es mayor que b\")\n",
    "elif a < b:\n",
    "    print(\"a es menor que b\")\n",
    "else:\n",
    "    print(\"a es igual que b\")\n",
    "\n"
   ]
  },
  {
   "cell_type": "markdown",
   "metadata": {},
   "source": [
    "### Anidación"
   ]
  },
  {
   "cell_type": "code",
   "execution_count": null,
   "metadata": {},
   "outputs": [],
   "source": [
    "#if expresion_prueba:\n",
    "    # instrucción(es) a ejecutar\n",
    "#    if expresion_prueba:\n",
    "        # instrucción(es) a ejecutar\n",
    "#    else: \n",
    "        # instrucción(es) a ejecutar\n",
    "#elif expresion_prueba:\n",
    "    # instrucción(es) a ejecutar\n",
    "#    if expresion_prueba:\n",
    "        # instrucción(es) a ejecutar\n",
    "#    else: \n",
    "        # instrucción(es) a ejecutar\n",
    "#else:\n",
    "    # instrucción(es) a ejecutar\n",
    "a = 16\n",
    "b = 25\n",
    "c = 27\n",
    "if a > b:\n",
    "    if b > c:\n",
    "        print(\"a es mayor que b y b es mayor que c\")\n",
    "    else:\n",
    "        print(\"a es mayor que b y menor que c\")\n",
    "elif a == b:\n",
    "    print(\"a es igual que b\")\n",
    "else:\n",
    "    print(\"a es menor que b\")\n"
   ]
  },
  {
   "cell_type": "markdown",
   "metadata": {},
   "source": [
    "### Opradores and y or"
   ]
  },
  {
   "cell_type": "code",
   "execution_count": null,
   "metadata": {},
   "outputs": [],
   "source": [
    "#subexpresión1 or subexpresión2\n",
    "a = 23\n",
    "b = 34\n",
    "if a == 34 or b == 34:\n",
    "    print(a + b)\n",
    "    \n",
    "#subexpresión1 and subexpresión2\n",
    "a = 23\n",
    "b = 34\n",
    "if a == 34 and b == 34:\n",
    "    print(a + b)\n"
   ]
  }
 ],
 "metadata": {
  "interpreter": {
   "hash": "7011eaa41a249243cfe95c6ed3a6e76b1b926a88a5a076082d4aa133330007c6"
  },
  "kernelspec": {
   "display_name": "Python 3.8.2 32-bit",
   "language": "python",
   "name": "python3"
  },
  "language_info": {
   "codemirror_mode": {
    "name": "ipython",
    "version": 3
   },
   "file_extension": ".py",
   "mimetype": "text/x-python",
   "name": "python",
   "nbconvert_exporter": "python",
   "pygments_lexer": "ipython3",
   "version": "3.8.2"
  },
  "orig_nbformat": 4
 },
 "nbformat": 4,
 "nbformat_minor": 2
}
