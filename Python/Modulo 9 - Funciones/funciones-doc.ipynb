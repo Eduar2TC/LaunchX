{
 "cells": [
  {
   "cell_type": "markdown",
   "metadata": {},
   "source": [
    "### Funciones\n"
   ]
  },
  {
   "cell_type": "code",
   "execution_count": 4,
   "metadata": {},
   "outputs": [
    {
     "name": "stdout",
     "output_type": "stream",
     "text": [
      "hello world\n",
      "hello world\n"
     ]
    }
   ],
   "source": [
    "#Funciones sin param\n",
    "def hello():\n",
    "    print('hello world')\n",
    "#Llamada de la funcion\n",
    "hello()\n",
    "#con valores de retorno\n",
    "def hello():\n",
    "    return 'hello world'\n",
    "hello = hello()\n",
    "print( hello )\n",
    "#Con parametros"
   ]
  },
  {
   "cell_type": "markdown",
   "metadata": {},
   "source": [
    "### Argumentos opcionales y requeridos"
   ]
  },
  {
   "cell_type": "code",
   "execution_count": 15,
   "metadata": {},
   "outputs": [
    {
     "data": {
      "text/plain": [
       "True"
      ]
     },
     "execution_count": 15,
     "metadata": {},
     "output_type": "execute_result"
    }
   ],
   "source": [
    "#ejemplo con arg. requeridos\n",
    "any([True, False, False]) #Devuelve true almenos si exist un elem. es True"
   ]
  },
  {
   "cell_type": "code",
   "execution_count": 16,
   "metadata": {},
   "outputs": [
    {
     "data": {
      "text/plain": [
       "'7'"
      ]
     },
     "execution_count": 16,
     "metadata": {},
     "output_type": "execute_result"
    }
   ],
   "source": [
    "#ejemplo con arg. opcionales\n",
    "#str() # devuelve ''\n",
    "str(7)"
   ]
  },
  {
   "cell_type": "code",
   "execution_count": 18,
   "metadata": {},
   "outputs": [
    {
     "data": {
      "text/plain": [
       "'238,855'"
      ]
     },
     "execution_count": 18,
     "metadata": {},
     "output_type": "execute_result"
    }
   ],
   "source": [
    "#Funciones con argumentos\n",
    "def distanciaDesdeLaTierra( destino ):\n",
    "    if( destino == 'Moon' ):\n",
    "        return '238,855'\n",
    "    else:\n",
    "        return 'No se puede calcular el destino'\n",
    "\n",
    "#Llamada\n",
    "distanciaDesdeLaTierra('Moon')\n"
   ]
  },
  {
   "cell_type": "code",
   "execution_count": 20,
   "metadata": {},
   "outputs": [
    {
     "data": {
      "text/plain": [
       "133"
      ]
     },
     "execution_count": 20,
     "metadata": {},
     "output_type": "execute_result"
    }
   ],
   "source": [
    "#Mas de un argumento\n",
    "def daysToComplete( distance, speed ):\n",
    "    hours = distance /speed\n",
    "    return hours / 24\n",
    "\n",
    "totalDays = daysToComplete( 238855, 75 )\n",
    "round( totalDays )"
   ]
  },
  {
   "cell_type": "code",
   "execution_count": 23,
   "metadata": {},
   "outputs": [
    {
     "data": {
      "text/plain": [
       "'Arrival: Thursday 17:08'"
      ]
     },
     "execution_count": 23,
     "metadata": {},
     "output_type": "execute_result"
    }
   ],
   "source": [
    "#Valores predeterminados\n",
    "from datetime import timedelta, datetime\n",
    "def arrivalTime( hours = 51 ):\n",
    "    now = datetime.now()\n",
    "    arrival = now + timedelta( hours = hours )\n",
    "    return arrival.strftime( 'Arrival: %A %H:%M' )\n",
    "\n",
    "arrivalTime()\n"
   ]
  },
  {
   "cell_type": "code",
   "execution_count": 27,
   "metadata": {},
   "outputs": [
    {
     "name": "stdout",
     "output_type": "stream",
     "text": [
      "Moon Arrival: Saturday 20:24\n"
     ]
    },
    {
     "data": {
      "text/plain": [
       "'Orbit Arrival: Thursday 17:32'"
      ]
     },
     "execution_count": 27,
     "metadata": {},
     "output_type": "execute_result"
    }
   ],
   "source": [
    "#Argumentos requeridos y predeterminados\n",
    "from datetime import timedelta, datetime\n",
    "\n",
    "\n",
    "def arrivalTime( destination, hours=51):\n",
    "    now = datetime.now()\n",
    "    arrival = now + timedelta(hours=hours)\n",
    "    return arrival.strftime(f'{destination} Arrival: %A %H:%M')\n",
    "\n",
    "print( arrivalTime('Moon') )\n",
    "arrivalTime('Orbit', hours = 0.13 )\n"
   ]
  },
  {
   "cell_type": "code",
   "execution_count": 32,
   "metadata": {},
   "outputs": [
    {
     "name": "stdout",
     "output_type": "stream",
     "text": [
      "()\n",
      "None\n",
      "('one', 'two')\n",
      "None\n",
      "None\n"
     ]
    }
   ],
   "source": [
    "#Argumentos de variable\n",
    "def variable_length(*args):\n",
    "    print(args)\n",
    "\n",
    "\n",
    "print( variable_length() )\n",
    "print( variable_length('one', 'two') )\n",
    "print(None)\n"
   ]
  },
  {
   "cell_type": "code",
   "execution_count": 35,
   "metadata": {},
   "outputs": [
    {
     "name": "stdout",
     "output_type": "stream",
     "text": [
      "Total time to launch is 36 minutes\n",
      "Total time to launch is 1.6 hours\n"
     ]
    }
   ],
   "source": [
    "#Ejemplo de argumentos de variable\n",
    "def sequence_time(*args):\n",
    "    total_minutes = sum(args)\n",
    "    if total_minutes < 60:\n",
    "        return f'Total time to launch is {total_minutes} minutes'\n",
    "    else:\n",
    "        return f'Total time to launch is {total_minutes/60} hours'\n",
    "\n",
    "print( sequence_time(4, 14, 18) )\n",
    "print( sequence_time(4, 14, 48, 30) )\n"
   ]
  },
  {
   "cell_type": "code",
   "execution_count": 36,
   "metadata": {},
   "outputs": [
    {
     "name": "stdout",
     "output_type": "stream",
     "text": [
      "{'tanks': 2, 'day': 'Monday', 'pilots': 3}\n"
     ]
    }
   ],
   "source": [
    "#Argumentos de clave variable\n",
    "def variable_length(**kwargs):\n",
    "    print(kwargs)\n",
    "variable_length( tanks=2, day='Monday', pilots=3 )"
   ]
  },
  {
   "cell_type": "code",
   "execution_count": 37,
   "metadata": {},
   "outputs": [
    {
     "name": "stdout",
     "output_type": "stream",
     "text": [
      "3 astronauts assigned for this mission:\n",
      "captain: Neil Armstrong\n",
      "pilot: Buzz Aldrin\n",
      "command_pilot: Michael Collins\n"
     ]
    }
   ],
   "source": [
    "#Ejemplo de argumentos de variable\n",
    "def crew_members(**kwargs):\n",
    "    print(f'{len(kwargs)} astronauts assigned for this mission:')\n",
    "    for title, name in kwargs.items():\n",
    "        print(f'{title}: {name}')\n",
    "\n",
    "\n",
    "crew_members(captain='Neil Armstrong', pilot='Buzz Aldrin',\n",
    "             command_pilot='Michael Collins')\n"
   ]
  }
 ],
 "metadata": {
  "interpreter": {
   "hash": "7011eaa41a249243cfe95c6ed3a6e76b1b926a88a5a076082d4aa133330007c6"
  },
  "kernelspec": {
   "display_name": "Python 3.8.2 32-bit",
   "language": "python",
   "name": "python3"
  },
  "language_info": {
   "codemirror_mode": {
    "name": "ipython",
    "version": 3
   },
   "file_extension": ".py",
   "mimetype": "text/x-python",
   "name": "python",
   "nbconvert_exporter": "python",
   "pygments_lexer": "ipython3",
   "version": "3.8.2"
  },
  "orig_nbformat": 4
 },
 "nbformat": 4,
 "nbformat_minor": 2
}
