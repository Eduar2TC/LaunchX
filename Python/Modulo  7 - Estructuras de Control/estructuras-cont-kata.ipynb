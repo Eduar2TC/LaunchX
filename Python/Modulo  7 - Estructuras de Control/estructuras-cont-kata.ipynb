{
 "cells": [
  {
   "cell_type": "markdown",
   "metadata": {},
   "source": [
    "### Ejercicio 1"
   ]
  },
  {
   "cell_type": "code",
   "execution_count": 3,
   "metadata": {},
   "outputs": [
    {
     "name": "stdout",
     "output_type": "stream",
     "text": [
      "['Tierra', 'Jupiter']\n"
     ]
    }
   ],
   "source": [
    "planets = []\n",
    "newPlanet = ''\n",
    "while newPlanet.lower() != 'done':\n",
    "    newPlanet = input('Add planet: ')\n",
    "    if newPlanet != 'done':\n",
    "        planets.append(newPlanet)\n",
    "print(planets)\n",
    "    \n",
    "        "
   ]
  },
  {
   "cell_type": "code",
   "execution_count": 4,
   "metadata": {},
   "outputs": [
    {
     "name": "stdout",
     "output_type": "stream",
     "text": [
      "planet:  Tierra\n",
      "planet:  Marte\n",
      "planet:  Jupiter\n"
     ]
    }
   ],
   "source": [
    "#For\n",
    "planets = []\n",
    "newPlanet = ''\n",
    "#while\n",
    "while newPlanet.lower() != 'done':\n",
    "    newPlanet = input('Add planet: ')\n",
    "    if newPlanet != 'done':\n",
    "        planets.append(newPlanet)\n",
    "#for\n",
    "for i in planets:\n",
    "    print('planet: ', i)\n"
   ]
  }
 ],
 "metadata": {
  "interpreter": {
   "hash": "7011eaa41a249243cfe95c6ed3a6e76b1b926a88a5a076082d4aa133330007c6"
  },
  "kernelspec": {
   "display_name": "Python 3.8.2 32-bit",
   "language": "python",
   "name": "python3"
  },
  "language_info": {
   "codemirror_mode": {
    "name": "ipython",
    "version": 3
   },
   "file_extension": ".py",
   "mimetype": "text/x-python",
   "name": "python",
   "nbconvert_exporter": "python",
   "pygments_lexer": "ipython3",
   "version": "3.8.2"
  },
  "orig_nbformat": 4
 },
 "nbformat": 4,
 "nbformat_minor": 2
}
