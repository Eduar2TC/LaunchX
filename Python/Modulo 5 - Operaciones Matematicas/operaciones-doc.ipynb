{
 "cells": [
  {
   "cell_type": "markdown",
   "metadata": {},
   "source": [
    "## Operaciones Matemáticas"
   ]
  },
  {
   "cell_type": "markdown",
   "metadata": {},
   "source": [
    "### Operadores\n",
    "\n",
    "+, -, *, /, //, %, **\n",
    "\n",
    "Suma, resta, multiplicación, división, división redondeada hacia abajo, módulo, exponenciación\n"
   ]
  },
  {
   "cell_type": "code",
   "execution_count": 7,
   "metadata": {},
   "outputs": [
    {
     "name": "stdout",
     "output_type": "stream",
     "text": [
      "suma: 15\n",
      "resta: 5\n",
      "multipliación: 50\n",
      "división: 2.0\n",
      "modulo: 0\n",
      "exponenciación: 100000\n"
     ]
    }
   ],
   "source": [
    "operando1 = 10\n",
    "operando2 = 5\n",
    "#suma\n",
    "suma = operando1 + operando2;\n",
    "print('suma: ' + str(suma) )\n",
    "#resta \n",
    "resta = operando1 - operando2;\n",
    "print('resta: '+ str(resta))\n",
    "mult = operando1 * operando2\n",
    "print('multipliación: ' + str(mult) )\n",
    "division = operando1 / operando2\n",
    "print('división: ' + str( division ))\n",
    "modulo = operando1 % operando2\n",
    "print('modulo: ' + str( modulo ) )\n",
    "exponenciacion = operando1 ** operando2;\n",
    "print('exponenciación: ' + str( exponenciacion ))\n",
    "\n",
    "\n",
    "\n"
   ]
  },
  {
   "cell_type": "markdown",
   "metadata": {},
   "source": [
    "### Gerarquía de operadores"
   ]
  },
  {
   "cell_type": "markdown",
   "metadata": {},
   "source": [
    "1. ()\n",
    "2. **\n",
    "3. *, /\n",
    "4. +, -"
   ]
  },
  {
   "cell_type": "markdown",
   "metadata": {},
   "source": [
    "### Cadenas a números"
   ]
  },
  {
   "cell_type": "code",
   "execution_count": 9,
   "metadata": {},
   "outputs": [
    {
     "name": "stdout",
     "output_type": "stream",
     "text": [
      "215\n",
      "100.5\n"
     ]
    }
   ],
   "source": [
    "print( int('215') )\n",
    "print( float( '100.50' ) )"
   ]
  },
  {
   "cell_type": "markdown",
   "metadata": {},
   "source": [
    "### Absoluto"
   ]
  },
  {
   "cell_type": "code",
   "execution_count": 10,
   "metadata": {},
   "outputs": [
    {
     "name": "stdout",
     "output_type": "stream",
     "text": [
      "23\n",
      "23\n"
     ]
    }
   ],
   "source": [
    "print( abs(39 - 16) )\n",
    "print( abs(16 - 39) )"
   ]
  },
  {
   "cell_type": "markdown",
   "metadata": {},
   "source": [
    "### Redondeo"
   ]
  },
  {
   "cell_type": "code",
   "execution_count": 11,
   "metadata": {},
   "outputs": [
    {
     "name": "stdout",
     "output_type": "stream",
     "text": [
      "14\n"
     ]
    }
   ],
   "source": [
    "print(round(14.5))\n"
   ]
  },
  {
   "cell_type": "markdown",
   "metadata": {},
   "source": [
    "### Math"
   ]
  },
  {
   "cell_type": "code",
   "execution_count": 12,
   "metadata": {},
   "outputs": [
    {
     "name": "stdout",
     "output_type": "stream",
     "text": [
      "13\n",
      "12\n"
     ]
    }
   ],
   "source": [
    "from math import ceil, floor\n",
    "\n",
    "round_up = ceil(12.5)\n",
    "print(round_up)\n",
    "\n",
    "round_down = floor(12.5)\n",
    "print(round_down)"
   ]
  },
  {
   "cell_type": "code",
   "execution_count": 18,
   "metadata": {},
   "outputs": [
    {
     "name": "stdout",
     "output_type": "stream",
     "text": [
      "300.0\n"
     ]
    }
   ],
   "source": [
    "#Se te encomendó la tarea de crear una aplicación que solicita al usuario \n",
    "# las distancias del sol para dos planetas, así como calcular la diferencia entre las dos distancias. \n",
    "\n",
    "dist1 = input('Distancia planeta 1 desde el sol: ') \n",
    "dist2 = input('Distancia planeta 2 desde el sol: ') \n",
    "print ( abs( float(dist1) - float(dist2) ) )\n",
    "\n"
   ]
  }
 ],
 "metadata": {
  "interpreter": {
   "hash": "7011eaa41a249243cfe95c6ed3a6e76b1b926a88a5a076082d4aa133330007c6"
  },
  "kernelspec": {
   "display_name": "Python 3.8.2 32-bit",
   "language": "python",
   "name": "python3"
  },
  "language_info": {
   "codemirror_mode": {
    "name": "ipython",
    "version": 3
   },
   "file_extension": ".py",
   "mimetype": "text/x-python",
   "name": "python",
   "nbconvert_exporter": "python",
   "pygments_lexer": "ipython3",
   "version": "3.8.2"
  },
  "orig_nbformat": 4
 },
 "nbformat": 4,
 "nbformat_minor": 2
}
