{
 "cells": [
  {
   "cell_type": "code",
   "execution_count": 6,
   "metadata": {},
   "outputs": [
    {
     "name": "stdout",
     "output_type": "stream",
     "text": [
      "628949330\n",
      "390577533.93\n",
      "31236300.0\n"
     ]
    }
   ],
   "source": [
    "#Ejercicio 1\n",
    "distTierra = 149597870\n",
    "distJupiter = 778547200\n",
    "\n",
    "dist = distTierra - distJupiter\n",
    "print( abs(dist) )\n",
    "print( abs(dist * 0.621) )\n",
    "\n",
    "#\n",
    "dist1 = input('Distancia planeta 1 desde el sol: ') \n",
    "dist1 = int(dist1)\n",
    "dist2 = input('Distancia planeta 2 desde el sol: ')\n",
    "dist2 = int(dist2) \n",
    "# Realizar el cálculo y determinar el valor absoluto\n",
    "dist = abs( dist1 - dist2 )\n",
    "# Convertir de KM a Millas\n",
    "print( dist * 0.621 )"
   ]
  }
 ],
 "metadata": {
  "interpreter": {
   "hash": "7011eaa41a249243cfe95c6ed3a6e76b1b926a88a5a076082d4aa133330007c6"
  },
  "kernelspec": {
   "display_name": "Python 3.8.2 32-bit",
   "language": "python",
   "name": "python3"
  },
  "language_info": {
   "codemirror_mode": {
    "name": "ipython",
    "version": 3
   },
   "file_extension": ".py",
   "mimetype": "text/x-python",
   "name": "python",
   "nbconvert_exporter": "python",
   "pygments_lexer": "ipython3",
   "version": "3.8.2"
  },
  "orig_nbformat": 4
 },
 "nbformat": 4,
 "nbformat_minor": 2
}
