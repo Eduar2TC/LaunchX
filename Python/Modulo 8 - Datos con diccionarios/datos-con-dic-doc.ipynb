{
 "cells": [
  {
   "cell_type": "markdown",
   "metadata": {},
   "source": [
    "### Diccionarios"
   ]
  },
  {
   "cell_type": "code",
   "execution_count": 4,
   "metadata": {},
   "outputs": [
    {
     "name": "stdout",
     "output_type": "stream",
     "text": [
      "Earth\n",
      "Earth\n",
      "Jupyter\n",
      "Mercury\n"
     ]
    }
   ],
   "source": [
    "#Diccionarios\n",
    "planeta = {}\n",
    "planet = {\n",
    "    'name': 'Earth',\n",
    "    'moons': 1\n",
    "}\n",
    "#Obtener los datos\n",
    "print( planet.get('name') )\n",
    "print( planet['name'] )\n",
    "\n",
    "#Actualizar datos\n",
    "planet.update( {'name': 'Jupyter' } )\n",
    "print(planet.get('name'))\n",
    "\n",
    "planet['name'] = 'Mercury'\n",
    "print( planet['name'] )\n"
   ]
  },
  {
   "cell_type": "markdown",
   "metadata": {},
   "source": [
    "#### Poder del Update"
   ]
  },
  {
   "cell_type": "code",
   "execution_count": 5,
   "metadata": {},
   "outputs": [
    {
     "name": "stdout",
     "output_type": "stream",
     "text": [
      "{'nombre': 'Tierra', 'lunas': 1}\n",
      "{'nombre': 'Jupiter', 'lunas': 79}\n"
     ]
    }
   ],
   "source": [
    "planeta = {\n",
    "    'nombre': 'Tierra',\n",
    "    'lunas': 1\n",
    "}\n",
    "print( planeta )\n",
    "#Update\n",
    "planeta.update({'nombre': 'Jupiter', 'lunas': 79})\n",
    "print( planeta )\n",
    "#Update con corchetes\n",
    "planeta['name'] = 'Marte'\n",
    "planeta['lunas'] = 2 #\n"
   ]
  },
  {
   "cell_type": "markdown",
   "metadata": {},
   "source": [
    "### Agregar e eliminar datos"
   ]
  },
  {
   "cell_type": "code",
   "execution_count": 7,
   "metadata": {},
   "outputs": [
    {
     "name": "stdout",
     "output_type": "stream",
     "text": [
      "{'nombre': 'Tierra', 'lunas': 1, 'periodo orbital': 4333}\n",
      "{'nombre': 'Tierra', 'lunas': 1}\n"
     ]
    }
   ],
   "source": [
    "planeta = {\n",
    "    'nombre': 'Tierra',\n",
    "    'lunas': 1\n",
    "}\n",
    "#agregando datos\n",
    "planeta['periodo orbital'] = 4333\n",
    "print( planeta )\n",
    "\n",
    "#quitando datos\n",
    "planeta.pop('periodo orbital')\n",
    "print(planeta)"
   ]
  },
  {
   "cell_type": "markdown",
   "metadata": {},
   "source": [
    "### Datos complejos"
   ]
  },
  {
   "cell_type": "code",
   "execution_count": 18,
   "metadata": {},
   "outputs": [
    {
     "name": "stdout",
     "output_type": "stream",
     "text": [
      "Tierra diametro polar: 133709\n",
      "{'nombre': 'Tierra', 'lunas': 1, 'diametro (km)': {'polar': 133709, 'ecuatorial': 142984}}\n",
      "142984\n"
     ]
    }
   ],
   "source": [
    "\n",
    "planeta['diametro (km)'] = {\n",
    "    'polar': 133709,\n",
    "    'ecuatorial': 142984\n",
    "}\n",
    "\n",
    "print(f'''{planeta['nombre']} diametro polar: {planeta['diametro (km)']['polar']}''')\n",
    "print(planeta)\n",
    "print(planeta['diametro (km)']['ecuatorial'])"
   ]
  },
  {
   "cell_type": "markdown",
   "metadata": {},
   "source": [
    "### Datos dinámicos"
   ]
  },
  {
   "cell_type": "code",
   "execution_count": 24,
   "metadata": {},
   "outputs": [
    {
     "name": "stdout",
     "output_type": "stream",
     "text": [
      "october:3.5 cm\n",
      "november:4.2 cm\n",
      "december:2.1 cm\n",
      "--------------------------------------------------\n",
      "october   3.5 cm\n",
      "november   4.2 cm\n",
      "december   2.1 cm\n"
     ]
    }
   ],
   "source": [
    "#Iteración\n",
    "rainfall = {\n",
    "    'october': 3.5,\n",
    "    'november': 4.2,\n",
    "    'december': 2.1\n",
    "}\n",
    "for key in rainfall.keys() :\n",
    "    print( f'{key}:{rainfall[key]} cm' )\n",
    "print('-'*50);\n",
    "for i in rainfall.keys() :\n",
    "    print(i,' ',rainfall[i], 'cm')"
   ]
  },
  {
   "cell_type": "code",
   "execution_count": 27,
   "metadata": {},
   "outputs": [
    {
     "name": "stdout",
     "output_type": "stream",
     "text": [
      "october   3.5 cm\n",
      "november   4.2 cm\n",
      "december   5.1 cm\n"
     ]
    }
   ],
   "source": [
    "#Insercción de datos\n",
    "# El valor de december: 2.1cm\n",
    "if 'december' in rainfall:\n",
    "    rainfall['december'] = rainfall['december'] + 1 #2.1 + 1\n",
    "else:\n",
    "    rainfall['december'] = 1\n",
    "\n",
    "for i in rainfall.keys():\n",
    "    print(i, ' ', rainfall[i], 'cm')"
   ]
  },
  {
   "cell_type": "markdown",
   "metadata": {},
   "source": [
    "### Value"
   ]
  },
  {
   "cell_type": "code",
   "execution_count": 28,
   "metadata": {},
   "outputs": [
    {
     "name": "stdout",
     "output_type": "stream",
     "text": [
      "There was 12.8 cm in the last quarter\n"
     ]
    }
   ],
   "source": [
    "total_rainfall = 0\n",
    "\n",
    "for value in rainfall.values():\n",
    "    total_rainfall += value\n",
    "\n",
    "print(f'There was {total_rainfall} cm in the last quarter')"
   ]
  }
 ],
 "metadata": {
  "interpreter": {
   "hash": "7011eaa41a249243cfe95c6ed3a6e76b1b926a88a5a076082d4aa133330007c6"
  },
  "kernelspec": {
   "display_name": "Python 3.8.2 32-bit",
   "language": "python",
   "name": "python3"
  },
  "language_info": {
   "codemirror_mode": {
    "name": "ipython",
    "version": 3
   },
   "file_extension": ".py",
   "mimetype": "text/x-python",
   "name": "python",
   "nbconvert_exporter": "python",
   "pygments_lexer": "ipython3",
   "version": "3.8.2"
  },
  "orig_nbformat": 4
 },
 "nbformat": 4,
 "nbformat_minor": 2
}
