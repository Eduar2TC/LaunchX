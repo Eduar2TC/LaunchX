{
 "cells": [
  {
   "cell_type": "markdown",
   "metadata": {},
   "source": [
    "### Ejercicio 1"
   ]
  },
  {
   "cell_type": "code",
   "execution_count": 8,
   "metadata": {},
   "outputs": [
    {
     "name": "stdout",
     "output_type": "stream",
     "text": [
      "name: Mars\n",
      "moons: 2\n",
      "--------------------------------------------------\n",
      "name:  Mars \n",
      " moons:  2\n"
     ]
    }
   ],
   "source": [
    "planet = {\n",
    "    'name': 'Mars',\n",
    "    'moons': 2\n",
    "}\n",
    "print(f'''name: {planet.get('name')}\\nmoons: {planet.get('moons')}''')\n",
    "print('-'*50)\n",
    "print( 'name: ',planet['name'],'\\n','moons: ',planet['moons'] )"
   ]
  },
  {
   "cell_type": "code",
   "execution_count": 49,
   "metadata": {},
   "outputs": [
    {
     "name": "stdout",
     "output_type": "stream",
     "text": [
      "name: Mars\n",
      "polar: 6752\n",
      "--------------------------------------------------\n",
      "name: Mars polar:  6752\n"
     ]
    }
   ],
   "source": [
    "planet ['circunference(km)'] = {'polar': 6752, 'equatorial': 6792}\n",
    "print(f'''name: {planet.get('name')}\\npolar: {planet['circunference(km)']['polar']}''')\n",
    "print('-'*50)\n",
    "for key in planet.keys():\n",
    "    if 'circunference(km)' in key:\n",
    "        for i in planet[key].keys():\n",
    "            if( i == 'polar' ):\n",
    "                print('name:', planet['name'], 'polar: ', planet[key][i])\n"
   ]
  },
  {
   "cell_type": "markdown",
   "metadata": {},
   "source": [
    "### Ejercicio 2"
   ]
  },
  {
   "cell_type": "code",
   "execution_count": 52,
   "metadata": {},
   "outputs": [
    {
     "name": "stdout",
     "output_type": "stream",
     "text": [
      "Total planets: 12 total moons: 214 average: 17.83 \n"
     ]
    }
   ],
   "source": [
    "# Planets and moons\n",
    "\n",
    "planet_moons = {\n",
    "    'mercury': 0,\n",
    "    'venus': 0,\n",
    "    'earth': 1,\n",
    "    'mars': 2,\n",
    "    'jupiter': 79,\n",
    "    'saturn': 82,\n",
    "    'uranus': 27,\n",
    "    'neptune': 14,\n",
    "    'pluto': 5,\n",
    "    'haumea': 2,\n",
    "    'makemake': 1,\n",
    "    'eris': 1\n",
    "}\n",
    "\n",
    "total_moons = 0\n",
    "planets = len(planet_moons)\n",
    "for value in planet_moons.values():\n",
    "    total_moons += value;\n",
    "average = round( total_moons / planets, 2)\n",
    "print(f'Total planets: {planets} total moons: {total_moons} average: {average} ')"
   ]
  }
 ],
 "metadata": {
  "interpreter": {
   "hash": "7011eaa41a249243cfe95c6ed3a6e76b1b926a88a5a076082d4aa133330007c6"
  },
  "kernelspec": {
   "display_name": "Python 3.8.2 32-bit",
   "language": "python",
   "name": "python3"
  },
  "language_info": {
   "codemirror_mode": {
    "name": "ipython",
    "version": 3
   },
   "file_extension": ".py",
   "mimetype": "text/x-python",
   "name": "python",
   "nbconvert_exporter": "python",
   "pygments_lexer": "ipython3",
   "version": "3.8.2"
  },
  "orig_nbformat": 4
 },
 "nbformat": 4,
 "nbformat_minor": 2
}
