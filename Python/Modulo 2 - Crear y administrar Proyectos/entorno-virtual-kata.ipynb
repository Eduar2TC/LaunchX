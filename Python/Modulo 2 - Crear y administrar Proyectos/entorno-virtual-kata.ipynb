{
 "cells": [
  {
   "cell_type": "markdown",
   "metadata": {},
   "source": [
    "## Crear un entorno virtual e instalar paquetes\n",
    "Como se há visto en el proceso de creación del entorno virtual en el archivo entorno-virtual-doc.ipynb\n",
    "Ahora se puede hacer un ejercicio de instalar un paquete en nuestro entorno aislado.\n"
   ]
  },
  {
   "cell_type": "markdown",
   "metadata": {},
   "source": [
    "### Activación del entorno virtual\n",
    "\n",
    "![picture 10](../../images/be7510bf0f5921d30ce888c723053df7b2a8cb0e495c86307268514b01f8e35e.png)  \n",
    "\n"
   ]
  },
  {
   "cell_type": "markdown",
   "metadata": {},
   "source": [
    "### Ver paquetes instalados en el entorno virtual\n",
    "\n",
    "![picture 11](../../images/77abd8b5b918c8f9d6a6e13a2e318eb50238b6cb5207fdd5935089bbfda37ded.png)  \n",
    "\n",
    "Podemos instalar el paquete python-dateutil con: pip install python-dateutil pero si ya lo tenemos instalado\n",
    "La consola nos muestra la salida: Requirement already satisfied: python-dateutil in c:\\users\\ ...\n",
    " ![picture 12](../../images/714342cdf32ef2d71575de3295a248e7c474f88c80259be1995f0d484e3b13e5.png)  \n"
   ]
  },
  {
   "cell_type": "markdown",
   "metadata": {},
   "source": [
    "### Desactivar el emtorno virtual"
   ]
  },
  {
   "cell_type": "markdown",
   "metadata": {},
   "source": [
    "Si el paquete se encuentra ya instalado, desactivamos el entorno virtual\n"
   ]
  }
 ],
 "metadata": {
  "language_info": {
   "name": "python"
  },
  "orig_nbformat": 4
 },
 "nbformat": 4,
 "nbformat_minor": 2
}
