{
 "cells": [
  {
   "cell_type": "markdown",
   "metadata": {},
   "source": [
    "## Creación de un entorno virtual"
   ]
  },
  {
   "cell_type": "markdown",
   "metadata": {},
   "source": [
    "python3 -m venv [env-name]"
   ]
  },
  {
   "cell_type": "markdown",
   "metadata": {},
   "source": [
    "![picture 1](../../images/94c99c9bb8033fa06b21465d2f9d96d5c73d6e13c6a91d67170d028272ddf30a.png)  \n"
   ]
  },
  {
   "cell_type": "markdown",
   "metadata": {},
   "source": [
    "### Creación del directorio src\n",
    "Se recomienda poner nuestro codugo en otra carpeta que no sea en env-name\n",
    "\n",
    "![picture 4](../../images/474fa4741078b7c2863498363d8dfc700f87550116ed201174215524570c87a8.png)  \n",
    "\n"
   ]
  },
  {
   "cell_type": "markdown",
   "metadata": {},
   "source": [
    "### Activar el entorno virtual\n",
    "\n",
    "cd env-default-python3.8.2\n",
    "\n",
    "env-default-python3.8.2>Scripts\\activate \n",
    "\n",
    "![picture 5](../../images/f2ac7be41804d978faec99bb1b72fee1dcdc2235a2d6321bed31dbc8f2d0cfe6.png)  \n",
    "\n",
    "### Desactivar entorno virtual\n",
    "\n",
    "env-default-python3.8.2>Scripts\\deactivate\n",
    "\n",
    "![picture 6](../../images/90308b785983a7edad23d5ece8f3bb2cb23dba3f108c81346ae82a3acf7255ac.png)  \n",
    "\n",
    "\n"
   ]
  },
  {
   "cell_type": "markdown",
   "metadata": {},
   "source": [
    "### Instalación de paquetes en el entorno virtual\n",
    "\n",
    "![picture 7](../../images/7ca2a45a40e39ec7051c6f64ff59346c1ffde04fa6502a2a3647425e668ff4a5.png)  \n",
    "\n",
    "Se observa que se há descargado en /Lib/site-packages/dateui\n",
    "\n",
    "![picture 8](../../images/7028c6baf523723b736e604c9f12c8f796c73bbd29e3fcf70da4611372b99e5c.png)  \n",
    "\n",
    "Para comprobar los paquetes intalados: pip freeze\n",
    "\n",
    "![picture 9](../../images/3590103003673d0bc4999c799a3283f938e2e4efc559c7c09532a978b0c854d8.png)  \n"
   ]
  },
  {
   "cell_type": "markdown",
   "metadata": {},
   "source": [
    "### Otras formas de intalar paquetes\n",
    "\n",
    "#### Bash | Consola\n",
    "cd <directorio donde se encuentran los paquetes>\n",
    "python -m pip install .\n",
    "\n",
    "#### Desde un repositorio\n",
    "\n",
    "git+https://github.com/your-repo.git\n",
    "\n",
    "#### Desde un archivo comprimido\n",
    "\n",
    "python -m pip install package.tar.gz\n",
    "\n"
   ]
  }
 ],
 "metadata": {
  "language_info": {
   "name": "python"
  },
  "orig_nbformat": 4
 },
 "nbformat": 4,
 "nbformat_minor": 2
}
